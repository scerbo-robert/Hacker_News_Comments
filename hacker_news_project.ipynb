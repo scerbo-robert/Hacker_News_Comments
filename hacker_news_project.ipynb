{
 "cells": [
  {
   "cell_type": "markdown",
   "metadata": {},
   "source": [
    "# Do `Ask HN` or `Show HN` receive more comments on average?\n",
    "\n",
    "# Do posts created at a certain time recieve more comments on average?"
   ]
  },
  {
   "cell_type": "code",
   "execution_count": 1,
   "metadata": {},
   "outputs": [
    {
     "name": "stdout",
     "output_type": "stream",
     "text": [
      "[['id', 'title', 'url', 'num_points', 'num_comments', 'author', 'created_at'], ['12579008', 'You have two days to comment if you want stem cells to be classified as your own', 'http://www.regulations.gov/document?D=FDA-2015-D-3719-0018', '1', '0', 'altstar', '9/26/2016 3:26'], ['12579005', 'SQLAR  the SQLite Archiver', 'https://www.sqlite.org/sqlar/doc/trunk/README.md', '1', '0', 'blacksqr', '9/26/2016 3:24'], ['12578997', 'What if we just printed a flatscreen television on the side of our boxes?', 'https://medium.com/vanmoof/our-secrets-out-f21c1f03fdc8#.ietxmez43', '1', '0', 'pavel_lishin', '9/26/2016 3:19'], ['12578989', 'algorithmic music', 'http://cacm.acm.org/magazines/2011/7/109891-algorithmic-composition/fulltext', '1', '0', 'poindontcare', '9/26/2016 3:16']]\n"
     ]
    }
   ],
   "source": [
    "from csv import reader\n",
    "\n",
    "open_file = open('/Users/Bud/Documents/data_science_projects/project_data_sets/hack_news.csv')\n",
    "read_file = reader(open_file)\n",
    "hn = list(read_file) # opening, reading, listing the data set\n",
    "print(hn[:5]) # display the first five rows"
   ]
  },
  {
   "cell_type": "markdown",
   "metadata": {},
   "source": [
    "In the previous cell we simply loaded the csv file and assigned it to a variable `hn`, afterwards we displayed the first 5 rows of the data.\n",
    "\n",
    "To clean the data more easily we'll remove the header row from the set."
   ]
  },
  {
   "cell_type": "code",
   "execution_count": 2,
   "metadata": {},
   "outputs": [
    {
     "name": "stdout",
     "output_type": "stream",
     "text": [
      "[['12579008', 'You have two days to comment if you want stem cells to be classified as your own', 'http://www.regulations.gov/document?D=FDA-2015-D-3719-0018', '1', '0', 'altstar', '9/26/2016 3:26'], ['12579005', 'SQLAR  the SQLite Archiver', 'https://www.sqlite.org/sqlar/doc/trunk/README.md', '1', '0', 'blacksqr', '9/26/2016 3:24'], ['12578997', 'What if we just printed a flatscreen television on the side of our boxes?', 'https://medium.com/vanmoof/our-secrets-out-f21c1f03fdc8#.ietxmez43', '1', '0', 'pavel_lishin', '9/26/2016 3:19'], ['12578989', 'algorithmic music', 'http://cacm.acm.org/magazines/2011/7/109891-algorithmic-composition/fulltext', '1', '0', 'poindontcare', '9/26/2016 3:16'], ['12578979', 'How the Data Vault Enables the Next-Gen Data Warehouse and Data Lake', 'https://www.talend.com/blog/2016/05/12/talend-and-Â\\x93the-data-vaultÂ\\x94', '1', '0', 'markgainor1', '9/26/2016 3:14']]\n"
     ]
    }
   ],
   "source": [
    "headers = hn[0]\n",
    "hn = hn[1:]\n",
    "print(hn[:5])"
   ]
  },
  {
   "cell_type": "markdown",
   "metadata": {},
   "source": [
    "We're only concerned with post titles beginning with `Ask HN` or `Show HN`, so we'll create a list of lists containing just the data for those titles. \n",
    "\n",
    "We can find these posts using the string method `startswith`."
   ]
  },
  {
   "cell_type": "code",
   "execution_count": 3,
   "metadata": {},
   "outputs": [
    {
     "name": "stdout",
     "output_type": "stream",
     "text": [
      "Number of ask posts= 9139\n",
      "\n",
      "\n",
      "Number of show posts= 10158\n",
      "\n",
      "\n",
      "Number of other posts= 273822\n"
     ]
    }
   ],
   "source": [
    "ask_posts = []\n",
    "show_posts = []\n",
    "other_posts = []\n",
    "\n",
    "for row in hn:\n",
    "    title = row[1]\n",
    "    title = title.lower()\n",
    "    if title.startswith('ask hn'):\n",
    "        ask_posts.append(row)\n",
    "    elif title.startswith('show hn'):\n",
    "            show_posts.append(row)\n",
    "    else:\n",
    "        other_posts.append(row)\n",
    "\n",
    "print('Number of ask posts=',len(ask_posts))\n",
    "print('\\n')\n",
    "print('Number of show posts=',len(show_posts))\n",
    "print('\\n')\n",
    "print('Number of other posts=',len(other_posts))"
   ]
  },
  {
   "cell_type": "markdown",
   "metadata": {},
   "source": [
    "We have split the original data into three smaller sets. The first two contain the 'ask' and 'show' posts, the third set contains the remaining posts.\n",
    "\n",
    "Now we can determine if the 'ask' and 'show' posts recieve a higher number of comments on average. "
   ]
  },
  {
   "cell_type": "code",
   "execution_count": 4,
   "metadata": {},
   "outputs": [
    {
     "name": "stdout",
     "output_type": "stream",
     "text": [
      "Average number of comments on an `Ask HN` post = 10.39\n",
      "\n",
      "\n",
      "Average number of comments on an `Show HN` post = 4.89\n"
     ]
    }
   ],
   "source": [
    "total_ask_comments = 0\n",
    "for post in ask_posts:\n",
    "    num_comments = int(post[4])\n",
    "    total_ask_comments = total_ask_comments + num_comments\n",
    "avg_ask_comments = total_ask_comments/len(ask_posts)\n",
    "print(\"Average number of comments on an `Ask HN` post =\",\"%.2f\"%avg_ask_comments)\n",
    "print('\\n')\n",
    "total_show_comments = 0\n",
    "for post in show_posts:\n",
    "    num_comments = int(post[4])\n",
    "    total_show_comments = total_show_comments + num_comments\n",
    "avg_show_comments = total_show_comments/len(show_posts)\n",
    "print(\"Average number of comments on an `Show HN` post =\",\"%.2f\"%avg_show_comments)"
   ]
  },
  {
   "cell_type": "markdown",
   "metadata": {},
   "source": [
    "We've shown in a relatively quick and easy way that on average: `Ask HN` posts recieve about twice as many comments as `Show HN` posts. \n",
    "\n",
    "Since 'ask' posts recieve so many more comments than 'show' posts, our remaining analysis will focus just 'ask' posts.\n",
    "\n",
    "Next we're going to determine whether 'ask' posts created at a certain time are more likely to attract comments. We'll do this by:\n",
    "\n",
    "1. Calculate the number of 'ask' posts created in each hour of the day, along with the number of comments recieved.\n",
    "2. Calculate the average number of comments 'ask' posts recieve by hour created."
   ]
  },
  {
   "cell_type": "code",
   "execution_count": 5,
   "metadata": {},
   "outputs": [
    {
     "name": "stdout",
     "output_type": "stream",
     "text": [
      "Posts per hour:\n",
      "{'02': 270, '01': 283, '22': 384, '21': 519, '19': 553, '17': 588, '15': 647, '14': 514, '13': 445, '11': 313, '10': 283, '09': 223, '07': 227, '03': 272, '23': 344, '20': 511, '16': 580, '08': 258, '00': 302, '18': 615, '12': 343, '04': 244, '06': 235, '05': 210}\n",
      "\n",
      "\n",
      "Comments per hour:\n",
      "{'02': 3003, '01': 2092, '22': 3372, '21': 4502, '19': 3955, '17': 5550, '15': 18525, '14': 4972, '13': 7247, '11': 2799, '10': 3013, '09': 1574, '07': 1589, '03': 2155, '23': 2297, '20': 4462, '16': 4466, '08': 2369, '00': 2279, '18': 4889, '12': 4240, '04': 2362, '06': 1588, '05': 1838}\n"
     ]
    }
   ],
   "source": [
    "import datetime as dt\n",
    "\n",
    "result_list = []\n",
    "\n",
    "for post in ask_posts:\n",
    "    created_at = post[6]\n",
    "    num_comments = int(post[4])\n",
    "    result_list.append([created_at,num_comments])\n",
    "    \n",
    "counts_by_hour = {}\n",
    "comments_by_hour = {}\n",
    "\n",
    "for row in result_list:\n",
    "    date_and_time = row[0]\n",
    "    comment = int(row[1])\n",
    "    datetime = dt.datetime.strptime(date_and_time,\"%m/%d/%Y %H:%M\")\n",
    "    just_time = dt.datetime.strftime(datetime,\"%H\")\n",
    "    if just_time not in counts_by_hour:\n",
    "        counts_by_hour[just_time] = 1\n",
    "        comments_by_hour[just_time] = comment\n",
    "    if just_time in counts_by_hour:\n",
    "        counts_by_hour[just_time] += 1\n",
    "        comments_by_hour[just_time] += comment\n",
    "\n",
    "print(\"Posts per hour:\")\n",
    "print(counts_by_hour) # Displaying the dictionary of number of posts \n",
    "print('\\n')                             # per hour\n",
    "print(\"Comments per hour:\")\n",
    "print(comments_by_hour) # Displaying the dictionary of corresponding\n",
    "                                        # comments per hour"
   ]
  },
  {
   "cell_type": "markdown",
   "metadata": {},
   "source": [
    "We have created two dictionaries: \n",
    "\n",
    " - `counts_by_hour`: contains the number of ask posts created during each hour of the day.\n",
    " - `comments_by_hour`: contains the corresponding number of comments ask posts created at each hour recieved. \n",
    " \n",
    "Next, we'll use the two dictionaries to calculate the average number of comments for posts created during each hour of the day. "
   ]
  },
  {
   "cell_type": "code",
   "execution_count": 10,
   "metadata": {},
   "outputs": [
    {
     "name": "stdout",
     "output_type": "stream",
     "text": [
      "[['02', 11.122222222222222], ['01', 7.392226148409894], ['22', 8.78125], ['21', 8.67437379576108], ['19', 7.151898734177215], ['17', 9.438775510204081], ['15', 28.632148377125194], ['14', 9.673151750972762], ['13', 16.285393258426968], ['11', 8.942492012779553], ['10', 10.646643109540635], ['09', 7.058295964125561], ['07', 7.0], ['03', 7.922794117647059], ['23', 6.6773255813953485], ['20', 8.731898238747554], ['16', 7.7], ['08', 9.182170542635658], ['00', 7.546357615894039], ['18', 7.949593495934959], ['12', 12.361516034985423], ['04', 9.680327868852459], ['06', 6.757446808510639], ['05', 8.752380952380953]]\n"
     ]
    }
   ],
   "source": [
    "avg_by_hour = []\n",
    "\n",
    "for hour in comments_by_hour:\n",
    "    avg_by_hour.append([hour,comments_by_hour[hour]/counts_by_hour[hour]])\n",
    "\n",
    "print(avg_by_hour)"
   ]
  },
  {
   "cell_type": "markdown",
   "metadata": {},
   "source": [
    "We now have the results we needed but the current format is difficult to read. To identify the hours with the highest values we will sort the list and finish by printing the five highest values in a format that is easier to read."
   ]
  },
  {
   "cell_type": "code",
   "execution_count": 36,
   "metadata": {},
   "outputs": [
    {
     "name": "stdout",
     "output_type": "stream",
     "text": [
      "[[28.632148377125194, '15'], [16.285393258426968, '13'], [12.361516034985423, '12'], [11.122222222222222, '02'], [10.646643109540635, '10'], [9.680327868852459, '04'], [9.673151750972762, '14'], [9.438775510204081, '17'], [9.182170542635658, '08'], [8.942492012779553, '11'], [8.78125, '22'], [8.752380952380953, '05'], [8.731898238747554, '20'], [8.67437379576108, '21'], [7.949593495934959, '18'], [7.922794117647059, '03'], [7.7, '16'], [7.546357615894039, '00'], [7.392226148409894, '01'], [7.151898734177215, '19'], [7.058295964125561, '09'], [7.0, '07'], [6.757446808510639, '06'], [6.6773255813953485, '23']]\n",
      "\n",
      "\n",
      "15:00: 28.63 average comments per post.\n",
      "13:00: 16.29 average comments per post.\n",
      "12:00: 12.36 average comments per post.\n",
      "02:00: 11.12 average comments per post.\n",
      "10:00: 10.65 average comments per post.\n"
     ]
    }
   ],
   "source": [
    "swap_avg_by_hour = []\n",
    "\n",
    "for row in avg_by_hour:\n",
    "    swap_avg_by_hour.append([row[1],row[0]])\n",
    "\n",
    "sorted_swap = sorted(swap_avg_by_hour,key=None,reverse=True)\n",
    "\n",
    "print(sorted_swap)\n",
    "#print(\"Top 5 Hours for Ask Posts Comments\")\n",
    "print('\\n')\n",
    "top_5 = sorted_swap[:5]\n",
    "\n",
    "for time in top_5:\n",
    "    average = round(time[0],2)\n",
    "    hour = time[1]\n",
    "    print(\"{0}:00: {1} average comments per post.\".format(hour,average))"
   ]
  },
  {
   "cell_type": "markdown",
   "metadata": {},
   "source": [
    "We've successfully made a sorted top five list. The times shown above are all in Eastern Time (ET).\n",
    "\n",
    "The list shows that posts made on Hacker News between 3pm and 4pm receive the most comments. This implies to me that a user can maximise their exposure by actively making posts between 3pm and 4pm."
   ]
  }
 ],
 "metadata": {
  "kernelspec": {
   "display_name": "Python 3",
   "language": "python",
   "name": "python3"
  },
  "language_info": {
   "codemirror_mode": {
    "name": "ipython",
    "version": 3
   },
   "file_extension": ".py",
   "mimetype": "text/x-python",
   "name": "python",
   "nbconvert_exporter": "python",
   "pygments_lexer": "ipython3",
   "version": "3.7.3"
  }
 },
 "nbformat": 4,
 "nbformat_minor": 2
}
